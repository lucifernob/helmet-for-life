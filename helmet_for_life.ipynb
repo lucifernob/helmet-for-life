{
  "nbformat": 4,
  "nbformat_minor": 0,
  "metadata": {
    "colab": {
      "name": "helmet for life.ipynb",
      "provenance": [],
      "authorship_tag": "ABX9TyPxYGsQ7clD1Q0jvU5pOITA",
      "include_colab_link": true
    },
    "kernelspec": {
      "name": "python3",
      "display_name": "Python 3"
    }
  },
  "cells": [
    {
      "cell_type": "markdown",
      "metadata": {
        "id": "view-in-github",
        "colab_type": "text"
      },
      "source": [
        "<a href=\"https://colab.research.google.com/github/lucifernob/helmet-for-life/blob/master/helmet_for_life.ipynb\" target=\"_parent\"><img src=\"https://colab.research.google.com/assets/colab-badge.svg\" alt=\"Open In Colab\"/></a>"
      ]
    },
    {
      "cell_type": "markdown",
      "metadata": {
        "id": "heNF3LKDlhqu",
        "colab_type": "text"
      },
      "source": [
        "##**Base Code**"
      ]
    },
    {
      "cell_type": "code",
      "metadata": {
        "id": "MTKR8kGElK_o",
        "colab_type": "code",
        "colab": {}
      },
      "source": [
        "import json, time, requests\n",
        "from boltiot import Sms, Bolt"
      ],
      "execution_count": null,
      "outputs": []
    },
    {
      "cell_type": "markdown",
      "metadata": {
        "id": "sg2DIHIKloDC",
        "colab_type": "text"
      },
      "source": [
        "##**Specify Module**"
      ]
    },
    {
      "cell_type": "code",
      "metadata": {
        "id": "4WkQR9_3lgsh",
        "colab_type": "code",
        "colab": {}
      },
      "source": [
        "api_key = \"Your api key\"                                #Add your API key \n",
        "device_id  = \"Your device ID\"                           #Add your device ID\n",
        "mybolt = Bolt(api_key, device_id)                       #Module ready"
      ],
      "execution_count": null,
      "outputs": []
    },
    {
      "cell_type": "markdown",
      "metadata": {
        "id": "gfAdeN8hlwLc",
        "colab_type": "text"
      },
      "source": [
        "##**Twilio configuration**"
      ]
    },
    {
      "cell_type": "code",
      "metadata": {
        "id": "Yn8Md2HCle9Z",
        "colab_type": "code",
        "colab": {}
      },
      "source": [
        "SID = 'Your SID'                                      #From your twilio dashboard\n",
        "AUTH_TOKEN = 'Your authentication token'              #From your twilio dashboard\n",
        "FROM_NUMBER = 'Phone number'                          #Twilio number\n",
        "TO_NUMBER = 'Phone number'                            #To the number you want to send SMS"
      ],
      "execution_count": null,
      "outputs": []
    },
    {
      "cell_type": "markdown",
      "metadata": {
        "id": "irPoG4Xklz4m",
        "colab_type": "text"
      },
      "source": [
        "##**Check value and send SMS accordingly**"
      ]
    },
    {
      "cell_type": "code",
      "metadata": {
        "id": "ojOtEy-hlcnx",
        "colab_type": "code",
        "colab": {}
      },
      "source": [
        "mybolt = Bolt(api_key, device_id)\n",
        "sms = Sms(SID, AUTH_TOKEN, TO_NUMBER, FROM_NUMBER)\n",
        "response = mybolt.serialRead('10')                  #Take response from arduino\n",
        "\n",
        "while True:\n",
        "  print (\"\\nReading\")                               #reading value form arduino\n",
        "  response = mybolt.serialRead('10')\n",
        "  data = json.loads(response)\n",
        "  val=data['value'].rstrip()                        #readings from arduino converted to string type\n",
        "  time.sleep(5)\n",
        "  \n",
        "  #If arduino gives value 0 that is it sensor is in connected with object that means, person is wearing helmet we need to perform our task\n",
        "  if val==\"0\":\n",
        "    print(\"Wearing helmet\\n\")\n",
        "  \n",
        "    try:\n",
        "      print(\"Making request to Twilio to send a SMS\")\n",
        "      response = sms.send_sms(\"It seems like you started your vehicle, do wear a helmet and mask. Have a safe ride!\")\n",
        "      print(\"Response received from Twilio is: \" + str(response))\n",
        "      time.sleep(600)\n",
        "      print(\"Status of SMS at Twilio is :\" + str(response.status) + \"\\n\")\n",
        "    except Exception as e:\n",
        "      print (\"Error occured: Below are the details\")\n",
        "      print (e)\n",
        "      print(\"\\n\")\n",
        "      time.sleep(5)\n",
        "  else:\n",
        "    None"
      ],
      "execution_count": null,
      "outputs": []
    }
  ]
}